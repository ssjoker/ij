{
 "cells": [
  {
   "cell_type": "code",
   "execution_count": 4,
   "id": "c0270da4",
   "metadata": {},
   "outputs": [],
   "source": [
    "import numpy as np\n",
    "import pandas as pd\n",
    "from sklearn.model_selection import train_test_split\n",
    "from sklearn.preprocessing import LabelEncoder, StandardScaler\n",
    "from keras.models import Sequential\n",
    "from keras.layers import Dense\n"
   ]
  },
  {
   "cell_type": "code",
   "execution_count": 5,
   "id": "48a0ea29",
   "metadata": {},
   "outputs": [],
   "source": [
    "# Load the OCR letter recognition dataset\n",
    "url = \"https://archive.ics.uci.edu/ml/machine-learning-databases/letter-recognition/letter-recognition.data\"\n",
    "column_names = ['letter', 'x-box', 'y-box', 'width', 'height', 'onpix', 'x-bar', 'y-bar', 'x2bar', 'y2bar', 'xybar', 'x2ybr', 'xy2br', 'x-ege', 'xegvy', 'y-ege', 'yegvx']\n",
    "data = pd.read_csv(url, names=column_names)"
   ]
  },
  {
   "cell_type": "code",
   "execution_count": 19,
   "id": "1237e30a",
   "metadata": {},
   "outputs": [],
   "source": [
    "# Split features and target variable\n",
    "X = data.drop('letter', axis=1)\n",
    "y = data['letter']"
   ]
  },
  {
   "cell_type": "code",
   "execution_count": 20,
   "id": "5e696bd3",
   "metadata": {},
   "outputs": [],
   "source": [
    "# Convert letters to numerical labels\n",
    "label_encoder = LabelEncoder()\n",
    "y = label_encoder.fit_transform(y)"
   ]
  },
  {
   "cell_type": "code",
   "execution_count": 21,
   "id": "203e8527",
   "metadata": {},
   "outputs": [],
   "source": [
    "# Split the data into training and testing sets\n",
    "X_train, X_test, y_train, y_test = train_test_split(X, y, test_size=0.2, random_state=42)"
   ]
  },
  {
   "cell_type": "code",
   "execution_count": 22,
   "id": "09787606",
   "metadata": {},
   "outputs": [],
   "source": [
    "# Standardize the features\n",
    "scaler = StandardScaler()\n",
    "X_train = scaler.fit_transform(X_train)\n",
    "X_test = scaler.transform(X_test)"
   ]
  },
  {
   "cell_type": "code",
   "execution_count": 23,
   "id": "6af9bf1a",
   "metadata": {},
   "outputs": [],
   "source": [
    "# Define the deep neural network model\n",
    "model = Sequential([\n",
    "    Dense(64, activation='relu', input_shape=(X_train.shape[1],)),\n",
    "    Dense(32, activation='relu'),\n",
    "    Dense(len(label_encoder.classes_), activation='softmax')\n",
    "])"
   ]
  },
  {
   "cell_type": "code",
   "execution_count": 24,
   "id": "4ce1bbd1",
   "metadata": {},
   "outputs": [],
   "source": [
    "# Compile the model\n",
    "model.compile(optimizer='adam', loss='sparse_categorical_crossentropy', metrics=['accuracy'])"
   ]
  },
  {
   "cell_type": "code",
   "execution_count": 25,
   "id": "b9f776f2",
   "metadata": {},
   "outputs": [
    {
     "name": "stdout",
     "output_type": "stream",
     "text": [
      "Epoch 1/100\n",
      "500/500 [==============================] - 7s 4ms/step - loss: 1.8550 - accuracy: 0.4925\n",
      "Epoch 2/100\n",
      "500/500 [==============================] - 2s 4ms/step - loss: 0.8911 - accuracy: 0.7526\n",
      "Epoch 3/100\n",
      "500/500 [==============================] - 2s 4ms/step - loss: 0.6935 - accuracy: 0.8021\n",
      "Epoch 4/100\n",
      "500/500 [==============================] - 2s 3ms/step - loss: 0.5868 - accuracy: 0.8274\n",
      "Epoch 5/100\n",
      "500/500 [==============================] - 2s 3ms/step - loss: 0.5133 - accuracy: 0.8469\n",
      "Epoch 6/100\n",
      "500/500 [==============================] - 2s 3ms/step - loss: 0.4545 - accuracy: 0.8649\n",
      "Epoch 7/100\n",
      "500/500 [==============================] - 2s 3ms/step - loss: 0.4094 - accuracy: 0.8777\n",
      "Epoch 8/100\n",
      "500/500 [==============================] - 1s 3ms/step - loss: 0.3716 - accuracy: 0.8894\n",
      "Epoch 9/100\n",
      "500/500 [==============================] - 2s 3ms/step - loss: 0.3396 - accuracy: 0.8985\n",
      "Epoch 10/100\n",
      "500/500 [==============================] - 2s 3ms/step - loss: 0.3142 - accuracy: 0.9061\n",
      "Epoch 11/100\n",
      "500/500 [==============================] - 2s 3ms/step - loss: 0.2912 - accuracy: 0.9119\n",
      "Epoch 12/100\n",
      "500/500 [==============================] - 2s 3ms/step - loss: 0.2723 - accuracy: 0.9175\n",
      "Epoch 13/100\n",
      "500/500 [==============================] - 2s 3ms/step - loss: 0.2566 - accuracy: 0.9210\n",
      "Epoch 14/100\n",
      "500/500 [==============================] - 1s 3ms/step - loss: 0.2410 - accuracy: 0.9264\n",
      "Epoch 15/100\n",
      "500/500 [==============================] - 2s 3ms/step - loss: 0.2275 - accuracy: 0.9298\n",
      "Epoch 16/100\n",
      "500/500 [==============================] - 2s 3ms/step - loss: 0.2186 - accuracy: 0.9313\n",
      "Epoch 17/100\n",
      "500/500 [==============================] - 2s 3ms/step - loss: 0.2060 - accuracy: 0.9367\n",
      "Epoch 18/100\n",
      "500/500 [==============================] - 2s 3ms/step - loss: 0.1966 - accuracy: 0.9398\n",
      "Epoch 19/100\n",
      "500/500 [==============================] - 2s 3ms/step - loss: 0.1902 - accuracy: 0.9417\n",
      "Epoch 20/100\n",
      "500/500 [==============================] - 2s 3ms/step - loss: 0.1809 - accuracy: 0.9447\n",
      "Epoch 21/100\n",
      "500/500 [==============================] - 2s 4ms/step - loss: 0.1743 - accuracy: 0.9459\n",
      "Epoch 22/100\n",
      "500/500 [==============================] - 2s 4ms/step - loss: 0.1673 - accuracy: 0.9481\n",
      "Epoch 23/100\n",
      "500/500 [==============================] - 2s 4ms/step - loss: 0.1610 - accuracy: 0.9501\n",
      "Epoch 24/100\n",
      "500/500 [==============================] - 2s 4ms/step - loss: 0.1544 - accuracy: 0.9533\n",
      "Epoch 25/100\n",
      "500/500 [==============================] - 2s 3ms/step - loss: 0.1508 - accuracy: 0.9514\n",
      "Epoch 26/100\n",
      "500/500 [==============================] - 2s 4ms/step - loss: 0.1452 - accuracy: 0.9545\n",
      "Epoch 27/100\n",
      "500/500 [==============================] - 2s 4ms/step - loss: 0.1421 - accuracy: 0.9555\n",
      "Epoch 28/100\n",
      "500/500 [==============================] - 2s 3ms/step - loss: 0.1384 - accuracy: 0.9568\n",
      "Epoch 29/100\n",
      "500/500 [==============================] - 2s 3ms/step - loss: 0.1324 - accuracy: 0.9590\n",
      "Epoch 30/100\n",
      "500/500 [==============================] - 2s 3ms/step - loss: 0.1285 - accuracy: 0.9597\n",
      "Epoch 31/100\n",
      "500/500 [==============================] - 2s 3ms/step - loss: 0.1258 - accuracy: 0.9609\n",
      "Epoch 32/100\n",
      "500/500 [==============================] - 2s 3ms/step - loss: 0.1200 - accuracy: 0.9642\n",
      "Epoch 33/100\n",
      "500/500 [==============================] - 2s 3ms/step - loss: 0.1188 - accuracy: 0.9628\n",
      "Epoch 34/100\n",
      "500/500 [==============================] - 2s 4ms/step - loss: 0.1146 - accuracy: 0.9636\n",
      "Epoch 35/100\n",
      "500/500 [==============================] - 2s 4ms/step - loss: 0.1126 - accuracy: 0.9643\n",
      "Epoch 36/100\n",
      "500/500 [==============================] - 2s 4ms/step - loss: 0.1092 - accuracy: 0.9659\n",
      "Epoch 37/100\n",
      "500/500 [==============================] - 2s 3ms/step - loss: 0.1080 - accuracy: 0.9658\n",
      "Epoch 38/100\n",
      "500/500 [==============================] - 2s 3ms/step - loss: 0.1035 - accuracy: 0.9680\n",
      "Epoch 39/100\n",
      "500/500 [==============================] - 1s 3ms/step - loss: 0.1023 - accuracy: 0.9676\n",
      "Epoch 40/100\n",
      "500/500 [==============================] - 1s 3ms/step - loss: 0.1003 - accuracy: 0.9678\n",
      "Epoch 41/100\n",
      "500/500 [==============================] - 2s 3ms/step - loss: 0.0965 - accuracy: 0.9688\n",
      "Epoch 42/100\n",
      "500/500 [==============================] - 2s 3ms/step - loss: 0.0954 - accuracy: 0.9696\n",
      "Epoch 43/100\n",
      "500/500 [==============================] - 2s 4ms/step - loss: 0.0937 - accuracy: 0.9700\n",
      "Epoch 44/100\n",
      "500/500 [==============================] - 2s 3ms/step - loss: 0.0898 - accuracy: 0.9726\n",
      "Epoch 45/100\n",
      "500/500 [==============================] - 1s 3ms/step - loss: 0.0891 - accuracy: 0.9711\n",
      "Epoch 46/100\n",
      "500/500 [==============================] - 2s 4ms/step - loss: 0.0872 - accuracy: 0.9731\n",
      "Epoch 47/100\n",
      "500/500 [==============================] - 2s 3ms/step - loss: 0.0840 - accuracy: 0.9728\n",
      "Epoch 48/100\n",
      "500/500 [==============================] - 1s 3ms/step - loss: 0.0841 - accuracy: 0.9731\n",
      "Epoch 49/100\n",
      "500/500 [==============================] - 2s 3ms/step - loss: 0.0822 - accuracy: 0.9751\n",
      "Epoch 50/100\n",
      "500/500 [==============================] - 2s 4ms/step - loss: 0.0787 - accuracy: 0.9751\n",
      "Epoch 51/100\n",
      "500/500 [==============================] - 2s 4ms/step - loss: 0.0776 - accuracy: 0.9757\n",
      "Epoch 52/100\n",
      "500/500 [==============================] - 2s 5ms/step - loss: 0.0768 - accuracy: 0.9762\n",
      "Epoch 53/100\n",
      "500/500 [==============================] - 1s 3ms/step - loss: 0.0754 - accuracy: 0.9764\n",
      "Epoch 54/100\n",
      "500/500 [==============================] - 2s 3ms/step - loss: 0.0744 - accuracy: 0.9759\n",
      "Epoch 55/100\n",
      "500/500 [==============================] - 2s 3ms/step - loss: 0.0713 - accuracy: 0.9779\n",
      "Epoch 56/100\n",
      "500/500 [==============================] - 2s 3ms/step - loss: 0.0699 - accuracy: 0.9776\n",
      "Epoch 57/100\n",
      "500/500 [==============================] - 1s 3ms/step - loss: 0.0704 - accuracy: 0.9774\n",
      "Epoch 58/100\n",
      "500/500 [==============================] - 1s 3ms/step - loss: 0.0688 - accuracy: 0.9778\n",
      "Epoch 59/100\n",
      "500/500 [==============================] - 2s 3ms/step - loss: 0.0682 - accuracy: 0.9793\n",
      "Epoch 60/100\n",
      "500/500 [==============================] - 2s 3ms/step - loss: 0.0653 - accuracy: 0.9794\n",
      "Epoch 61/100\n",
      "500/500 [==============================] - 2s 4ms/step - loss: 0.0636 - accuracy: 0.9802\n",
      "Epoch 62/100\n",
      "500/500 [==============================] - 2s 4ms/step - loss: 0.0639 - accuracy: 0.9799\n",
      "Epoch 63/100\n",
      "500/500 [==============================] - 1s 3ms/step - loss: 0.0615 - accuracy: 0.9811\n",
      "Epoch 64/100\n",
      "500/500 [==============================] - 2s 3ms/step - loss: 0.0625 - accuracy: 0.9801\n",
      "Epoch 65/100\n",
      "500/500 [==============================] - 2s 3ms/step - loss: 0.0597 - accuracy: 0.9811\n",
      "Epoch 66/100\n",
      "500/500 [==============================] - 2s 3ms/step - loss: 0.0592 - accuracy: 0.9816\n",
      "Epoch 67/100\n",
      "500/500 [==============================] - 2s 3ms/step - loss: 0.0578 - accuracy: 0.9807\n",
      "Epoch 68/100\n",
      "500/500 [==============================] - 2s 3ms/step - loss: 0.0568 - accuracy: 0.9814\n",
      "Epoch 69/100\n",
      "500/500 [==============================] - 2s 3ms/step - loss: 0.0556 - accuracy: 0.9817\n",
      "Epoch 70/100\n",
      "500/500 [==============================] - 1s 3ms/step - loss: 0.0568 - accuracy: 0.9816\n",
      "Epoch 71/100\n",
      "500/500 [==============================] - 1s 3ms/step - loss: 0.0554 - accuracy: 0.9819\n",
      "Epoch 72/100\n",
      "500/500 [==============================] - 2s 3ms/step - loss: 0.0539 - accuracy: 0.9830\n",
      "Epoch 73/100\n",
      "500/500 [==============================] - 2s 3ms/step - loss: 0.0511 - accuracy: 0.9843\n",
      "Epoch 74/100\n",
      "500/500 [==============================] - 2s 4ms/step - loss: 0.0534 - accuracy: 0.9831\n",
      "Epoch 75/100\n",
      "500/500 [==============================] - 2s 4ms/step - loss: 0.0501 - accuracy: 0.9844\n",
      "Epoch 76/100\n",
      "500/500 [==============================] - 2s 4ms/step - loss: 0.0497 - accuracy: 0.9846\n",
      "Epoch 77/100\n",
      "500/500 [==============================] - 2s 4ms/step - loss: 0.0495 - accuracy: 0.9843\n",
      "Epoch 78/100\n",
      "500/500 [==============================] - 2s 4ms/step - loss: 0.0476 - accuracy: 0.9853\n",
      "Epoch 79/100\n",
      "500/500 [==============================] - 2s 4ms/step - loss: 0.0476 - accuracy: 0.9847\n",
      "Epoch 80/100\n",
      "500/500 [==============================] - 2s 3ms/step - loss: 0.0468 - accuracy: 0.9851\n",
      "Epoch 81/100\n",
      "500/500 [==============================] - 2s 4ms/step - loss: 0.0444 - accuracy: 0.9875\n",
      "Epoch 82/100\n",
      "500/500 [==============================] - 2s 3ms/step - loss: 0.0468 - accuracy: 0.9849\n",
      "Epoch 83/100\n",
      "500/500 [==============================] - 2s 3ms/step - loss: 0.0444 - accuracy: 0.9861\n",
      "Epoch 84/100\n",
      "500/500 [==============================] - 2s 4ms/step - loss: 0.0440 - accuracy: 0.9862\n",
      "Epoch 85/100\n",
      "500/500 [==============================] - 2s 3ms/step - loss: 0.0448 - accuracy: 0.9855\n",
      "Epoch 86/100\n",
      "500/500 [==============================] - 2s 4ms/step - loss: 0.0426 - accuracy: 0.9869\n",
      "Epoch 87/100\n",
      "500/500 [==============================] - 2s 3ms/step - loss: 0.0421 - accuracy: 0.9869\n",
      "Epoch 88/100\n",
      "500/500 [==============================] - 2s 3ms/step - loss: 0.0412 - accuracy: 0.9871\n",
      "Epoch 89/100\n",
      "500/500 [==============================] - 2s 4ms/step - loss: 0.0426 - accuracy: 0.9869\n",
      "Epoch 90/100\n",
      "500/500 [==============================] - 1s 3ms/step - loss: 0.0385 - accuracy: 0.9884\n",
      "Epoch 91/100\n",
      "500/500 [==============================] - 2s 4ms/step - loss: 0.0391 - accuracy: 0.9874\n",
      "Epoch 92/100\n",
      "500/500 [==============================] - 2s 3ms/step - loss: 0.0385 - accuracy: 0.9882\n",
      "Epoch 93/100\n",
      "500/500 [==============================] - 1s 3ms/step - loss: 0.0388 - accuracy: 0.9877\n",
      "Epoch 94/100\n",
      "500/500 [==============================] - 1s 3ms/step - loss: 0.0363 - accuracy: 0.9891\n",
      "Epoch 95/100\n",
      "500/500 [==============================] - 1s 3ms/step - loss: 0.0382 - accuracy: 0.9886\n",
      "Epoch 96/100\n",
      "500/500 [==============================] - 1s 3ms/step - loss: 0.0360 - accuracy: 0.9890\n",
      "Epoch 97/100\n",
      "500/500 [==============================] - 2s 3ms/step - loss: 0.0369 - accuracy: 0.9879\n",
      "Epoch 98/100\n",
      "500/500 [==============================] - 2s 3ms/step - loss: 0.0358 - accuracy: 0.9887\n",
      "Epoch 99/100\n",
      "500/500 [==============================] - 2s 3ms/step - loss: 0.0364 - accuracy: 0.9893\n",
      "Epoch 100/100\n",
      "500/500 [==============================] - 2s 3ms/step - loss: 0.0359 - accuracy: 0.9896\n"
     ]
    },
    {
     "data": {
      "text/plain": [
       "<keras.callbacks.History at 0x25c355fef20>"
      ]
     },
     "execution_count": 25,
     "metadata": {},
     "output_type": "execute_result"
    }
   ],
   "source": [
    "# Train the model\n",
    "model.fit(X_train, y_train, epochs=100, batch_size=32, verbose=1)"
   ]
  },
  {
   "cell_type": "code",
   "execution_count": 26,
   "id": "346f8710",
   "metadata": {},
   "outputs": [
    {
     "name": "stdout",
     "output_type": "stream",
     "text": [
      "Loss: 0.20\n",
      "Accuracy: 0.95\n"
     ]
    }
   ],
   "source": [
    "# Evaluate the model\n",
    "loss, accuracy = model.evaluate(X_test, y_test, verbose=0)\n",
    "print('Loss: {:.2f}'.format(loss))\n",
    "print('Accuracy: {:.2f}'.format(accuracy))"
   ]
  },
  {
   "cell_type": "code",
   "execution_count": 27,
   "id": "84893e0d",
   "metadata": {},
   "outputs": [
    {
     "name": "stdout",
     "output_type": "stream",
     "text": [
      "125/125 [==============================] - 0s 2ms/step\n"
     ]
    }
   ],
   "source": [
    "# Make predictions\n",
    "predictions = model.predict(X_test)\n",
    "predicted_labels = np.argmax(predictions, axis=1)\n",
    "predicted_letters = label_encoder.inverse_transform(predicted_labels)\n"
   ]
  },
  {
   "cell_type": "code",
   "execution_count": 28,
   "id": "8b4b5746",
   "metadata": {},
   "outputs": [
    {
     "name": "stdout",
     "output_type": "stream",
     "text": [
      "Example predictions:\n",
      "Predicted: X, Actual: ['T']\n",
      "Predicted: L, Actual: ['L']\n",
      "Predicted: A, Actual: ['A']\n",
      "Predicted: E, Actual: ['E']\n",
      "Predicted: Q, Actual: ['Q']\n",
      "Predicted: E, Actual: ['E']\n",
      "Predicted: O, Actual: ['O']\n",
      "Predicted: Q, Actual: ['Q']\n",
      "Predicted: G, Actual: ['G']\n",
      "Predicted: O, Actual: ['O']\n"
     ]
    }
   ],
   "source": [
    "# Print example predictions\n",
    "print('Example predictions:')\n",
    "for i in range(10):\n",
    "    print('Predicted: {}, Actual: {}'.format(predicted_letters[i], label_encoder.inverse_transform([y_test[i]])))\n"
   ]
  },
  {
   "cell_type": "code",
   "execution_count": null,
   "id": "050c7528",
   "metadata": {},
   "outputs": [],
   "source": []
  }
 ],
 "metadata": {
  "kernelspec": {
   "display_name": "Python 3 (ipykernel)",
   "language": "python",
   "name": "python3"
  },
  "language_info": {
   "codemirror_mode": {
    "name": "ipython",
    "version": 3
   },
   "file_extension": ".py",
   "mimetype": "text/x-python",
   "name": "python",
   "nbconvert_exporter": "python",
   "pygments_lexer": "ipython3",
   "version": "3.10.7"
  }
 },
 "nbformat": 4,
 "nbformat_minor": 5
}
